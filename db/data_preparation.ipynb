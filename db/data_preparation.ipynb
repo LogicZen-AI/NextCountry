{
 "cells": [
  {
   "cell_type": "code",
   "execution_count": 101,
   "id": "8c1c5a34",
   "metadata": {},
   "outputs": [],
   "source": [
    "import warnings\n",
    "warnings.filterwarnings(\"ignore\")"
   ]
  },
  {
   "cell_type": "code",
   "execution_count": 102,
   "id": "ab1930b0",
   "metadata": {},
   "outputs": [],
   "source": [
    "# load credentials\n",
    "import os\n",
    "from dotenv import load_dotenv\n",
    "load_dotenv()\n",
    "os.environ[\"GOOGLE_API_KEY\"] = os.getenv(\"GOOGLE_API_KEY\")\n",
    "ASTRA_DB_APPLICATION_TOKEN = os.getenv(\"ASTRA_DB_APPLICATION_TOKEN\")\n",
    "ASTRA_DB_API_ENDPOINT = os.getenv(\"ASTRA_DB_API_ENDPOINT\")"
   ]
  },
  {
   "cell_type": "markdown",
   "id": "fb3128c2",
   "metadata": {},
   "source": [
    "## Load documents"
   ]
  },
  {
   "cell_type": "code",
   "execution_count": 103,
   "id": "942dda00",
   "metadata": {},
   "outputs": [
    {
     "name": "stdout",
     "output_type": "stream",
     "text": [
      "Found files: 4\n",
      "Processing CANADA.pdf...\n",
      "Processing UAE visa and relocation programs_ - Google Docs.pdf...\n",
      "Processing UNITED KINGDOM – VISA OPTIONS AND GUIDE.docx...\n",
      "Processing USA.pdf...\n",
      "\n",
      "Loading documents...\n",
      "✅ Total documents loaded: 743\n",
      "\n",
      "Sample content from first document:\n",
      "'CANADA'\n",
      "{'source': 'D:\\\\NextCountry\\\\db\\\\CANADA.pdf',\n",
      " 'coordinates': {'points': ((264.844875, 89.39440880345694),\n",
      "                            (264.844875, 108.39440930345688),\n",
      "                            (352.433940458916, 108.39440930345688),\n",
      "                            (352.433940458916, 89.39440880345694)),\n",
      "                 'system': 'PixelSpace',\n",
      "                 'layout_width': 612.0,\n",
      "                 'layout_height': 792.0},\n",
      " 'file_directory': 'D:\\\\NextCountry\\\\db',\n",
      " 'filename': 'CANADA.pdf',\n",
      " 'languages': ['eng'],\n",
      " 'last_modified': '2025-05-10T14:00:52',\n",
      " 'page_number': 1,\n",
      " 'filetype': 'application/pdf',\n",
      " 'category': 'Title',\n",
      " 'element_id': '1cb2764cd029c4b05e748ceda6a613ee'}\n"
     ]
    },
    {
     "data": {
      "text/plain": [
       "(None, None)"
      ]
     },
     "execution_count": 103,
     "metadata": {},
     "output_type": "execute_result"
    }
   ],
   "source": [
    "import os\n",
    "from langchain_unstructured import UnstructuredLoader\n",
    "\n",
    "folder_path = \"D:\\\\NextCountry\\\\db\"\n",
    "file_paths = [os.path.join(folder_path, f) for f in os.listdir(folder_path) if f.endswith(('.pdf', '.docx', '.doc', '.txt'))]\n",
    "\n",
    "print(\"Found files:\", len(file_paths))\n",
    "for file in file_paths:\n",
    "    print(f\"Processing {os.path.basename(file)}...\")\n",
    "\n",
    "loader = UnstructuredLoader(file_paths,\n",
    "                            partition_via_api=False,\n",
    "                            split_pdf_pages=True)\n",
    "\n",
    "print(\"\\nLoading documents...\")\n",
    "docs = loader.load()\n",
    "print(f\"✅ Total documents loaded: {len(docs)}\")\n",
    "\n",
    "print(\"\\nSample content from first document:\")\n",
    "import pprint\n",
    "pprint.pp(docs[0].page_content), pprint.pp(docs[0].metadata)"
   ]
  },
  {
   "cell_type": "code",
   "execution_count": 104,
   "id": "88024491",
   "metadata": {},
   "outputs": [],
   "source": [
    "from langchain.chat_models import init_chat_model\n",
    "llm = init_chat_model(\n",
    "    model=\"gemini-2.0-flash\",\n",
    "    model_provider=\"google_genai\",\n",
    "    temperature=0.5\n",
    ")"
   ]
  },
  {
   "cell_type": "code",
   "execution_count": 105,
   "id": "506913af",
   "metadata": {},
   "outputs": [],
   "source": [
    "# Function to extract country from filename using LLM\n",
    "def extract_country_from_filename(filename):\n",
    "    prompt = f\"\"\"\n",
    "    Extract the country name from this filename: {filename}. Then recall the full form of the country name.\n",
    "    you must return the country name in full form and all capital letters, nothing else.\n",
    "    example1:'USA visa details' will return 'UNITED STATES OF AMERICA'.\n",
    "    example2:'BD visa details' will return 'BANGLADESH'.\n",
    "    If no country is found, return 'NA'.\n",
    "    \"\"\"\n",
    "    response = llm.invoke(prompt)\n",
    "    return response.content.strip()\n",
    "\n",
    "# update metadata\n",
    "from langchain.text_splitter import RecursiveCharacterTextSplitter  \n",
    "def update_metadata(splits):\n",
    "    # text_splitter = RecursiveCharacterTextSplitter(\n",
    "    # chunk_size = 1000,\n",
    "    # chunk_overlap = 300,\n",
    "    #     separators=[\n",
    "    #     \"\\n\"]\n",
    "    # )\n",
    "\n",
    "    # splits = text_splitter.split_documents(documents)\n",
    "    \n",
    "    for i in range(len(splits)):\n",
    "        filename = splits[i].metadata[\"filename\"]\n",
    "        if i == 0 or filename != splits[i-1].metadata[\"filename\"]:\n",
    "            country = extract_country_from_filename(filename)\n",
    "        splits[i].metadata[\"country\"] = country\n",
    "        \n",
    "    return splits"
   ]
  },
  {
   "cell_type": "code",
   "execution_count": 106,
   "id": "c507aaeb",
   "metadata": {},
   "outputs": [
    {
     "data": {
      "text/plain": [
       "{'source': 'D:\\\\NextCountry\\\\db\\\\CANADA.pdf',\n",
       " 'coordinates': {'points': ((264.844875, 89.39440880345694),\n",
       "   (264.844875, 108.39440930345688),\n",
       "   (352.433940458916, 108.39440930345688),\n",
       "   (352.433940458916, 89.39440880345694)),\n",
       "  'system': 'PixelSpace',\n",
       "  'layout_width': 612.0,\n",
       "  'layout_height': 792.0},\n",
       " 'file_directory': 'D:\\\\NextCountry\\\\db',\n",
       " 'filename': 'CANADA.pdf',\n",
       " 'languages': ['eng'],\n",
       " 'last_modified': '2025-05-10T14:00:52',\n",
       " 'page_number': 1,\n",
       " 'filetype': 'application/pdf',\n",
       " 'category': 'Title',\n",
       " 'element_id': '1cb2764cd029c4b05e748ceda6a613ee',\n",
       " 'country': 'CANADA'}"
      ]
     },
     "execution_count": 106,
     "metadata": {},
     "output_type": "execute_result"
    }
   ],
   "source": [
    "documents = update_metadata(docs)\n",
    "documents[0].metadata"
   ]
  },
  {
   "cell_type": "code",
   "execution_count": 107,
   "id": "ec74f75b",
   "metadata": {},
   "outputs": [
    {
     "data": {
      "text/plain": [
       "743"
      ]
     },
     "execution_count": 107,
     "metadata": {},
     "output_type": "execute_result"
    }
   ],
   "source": [
    "len(documents)\n",
    "# documents[100].metadata"
   ]
  },
  {
   "cell_type": "markdown",
   "id": "c3b0f404",
   "metadata": {},
   "source": [
    "## Embedding Engine\n",
    "---"
   ]
  },
  {
   "cell_type": "code",
   "execution_count": 108,
   "id": "7e996f99",
   "metadata": {},
   "outputs": [],
   "source": [
    "from langchain_google_genai import GoogleGenerativeAIEmbeddings\n",
    "\n",
    "google_embedding_model = GoogleGenerativeAIEmbeddings(\n",
    "    model=\"models/text-embedding-004\",\n",
    ")\n"
   ]
  },
  {
   "cell_type": "markdown",
   "id": "b039b652",
   "metadata": {},
   "source": [
    "## Vector Database Connection"
   ]
  },
  {
   "cell_type": "code",
   "execution_count": 109,
   "id": "a0f55bab",
   "metadata": {},
   "outputs": [
    {
     "name": "stderr",
     "output_type": "stream",
     "text": [
      "INFO: getting database info\n",
      "INFO: HTTP Request: GET https://api.astra.datastax.com/v2/databases/d21836b8-de1d-4618-962c-f8dd6c98eea5 \"HTTP/1.1 200 OK\"\n",
      "INFO: finished getting database info\n",
      "INFO: findCollections\n",
      "INFO: HTTP Request: POST https://d21836b8-de1d-4618-962c-f8dd6c98eea5-us-east-2.apps.astra.datastax.com/api/json/v1/default_keyspace \"HTTP/1.1 200 OK\"\n",
      "INFO: finished findCollections\n"
     ]
    },
    {
     "name": "stdout",
     "output_type": "stream",
     "text": [
      "Connected Database: next_country\n",
      "Collections found: ['visa_information', 'visa_information_dev']\n"
     ]
    }
   ],
   "source": [
    "from astrapy import DataAPIClient\n",
    "\n",
    "# Initialize the client\n",
    "client = DataAPIClient(ASTRA_DB_APPLICATION_TOKEN)\n",
    "db = client.get_database_by_api_endpoint(\n",
    "  ASTRA_DB_API_ENDPOINT\n",
    ")\n",
    "\n",
    "print(f\"Connected Database: {db.info().name}\\nCollections found: {db.list_collection_names()}\")"
   ]
  },
  {
   "cell_type": "code",
   "execution_count": 110,
   "id": "bb8b8b24",
   "metadata": {},
   "outputs": [
    {
     "name": "stderr",
     "output_type": "stream",
     "text": [
      "INFO: vector store default init, collection 'visa_information_v3'\n",
      "INFO: Detecting API environment 'prod' from supplied endpoint\n",
      "INFO: createCollection('visa_information_v3')\n",
      "INFO: HTTP Request: POST https://d21836b8-de1d-4618-962c-f8dd6c98eea5-us-east-2.apps.astra.datastax.com/api/json/v1/default_keyspace \"HTTP/1.1 200 OK\"\n",
      "INFO: finished createCollection('visa_information_v3')\n"
     ]
    },
    {
     "name": "stdout",
     "output_type": "stream",
     "text": [
      "Connected to collection: visa_information_v3\n"
     ]
    }
   ],
   "source": [
    "# create collection\n",
    "from langchain_astradb import AstraDBVectorStore\n",
    "\n",
    "vector_store = AstraDBVectorStore(\n",
    "    collection_name=\"visa_information_v3\",      # this collection gets created automatically\n",
    "    embedding=google_embedding_model,\n",
    "    api_endpoint=ASTRA_DB_API_ENDPOINT,\n",
    "    token=ASTRA_DB_APPLICATION_TOKEN,\n",
    "    namespace=\"default_keyspace\",\n",
    "    # autodetect_collection=True,   # set to True whille using it\n",
    ")\n",
    "\n",
    "print(f\"Connected to collection: {vector_store.collection_name}\")"
   ]
  },
  {
   "cell_type": "markdown",
   "id": "a0a2d5d6",
   "metadata": {},
   "source": [
    "### Pushing data to collection"
   ]
  },
  {
   "cell_type": "code",
   "execution_count": 111,
   "id": "5e91389f",
   "metadata": {},
   "outputs": [
    {
     "name": "stderr",
     "output_type": "stream",
     "text": [
      "INFO: inserting 100 documents in 'visa_information_v3'\n",
      "INFO: insertMany(chunk) on 'visa_information_v3'\n",
      "INFO: insertMany(chunk) on 'visa_information_v3'\n",
      "INFO: HTTP Request: POST https://d21836b8-de1d-4618-962c-f8dd6c98eea5-us-east-2.apps.astra.datastax.com/api/json/v1/default_keyspace/visa_information_v3 \"HTTP/1.1 200 OK\"\n",
      "INFO: finished insertMany(chunk) on 'visa_information_v3'\n",
      "INFO: HTTP Request: POST https://d21836b8-de1d-4618-962c-f8dd6c98eea5-us-east-2.apps.astra.datastax.com/api/json/v1/default_keyspace/visa_information_v3 \"HTTP/1.1 200 OK\"\n",
      "INFO: finished insertMany(chunk) on 'visa_information_v3'\n",
      "INFO: finished inserting 100 documents in 'visa_information_v3'\n"
     ]
    },
    {
     "name": "stdout",
     "output_type": "stream",
     "text": [
      "Chunk 0 added successfully\n"
     ]
    },
    {
     "name": "stderr",
     "output_type": "stream",
     "text": [
      "INFO: inserting 100 documents in 'visa_information_v3'\n",
      "INFO: insertMany(chunk) on 'visa_information_v3'\n",
      "INFO: insertMany(chunk) on 'visa_information_v3'\n",
      "INFO: HTTP Request: POST https://d21836b8-de1d-4618-962c-f8dd6c98eea5-us-east-2.apps.astra.datastax.com/api/json/v1/default_keyspace/visa_information_v3 \"HTTP/1.1 200 OK\"\n",
      "INFO: finished insertMany(chunk) on 'visa_information_v3'\n",
      "INFO: HTTP Request: POST https://d21836b8-de1d-4618-962c-f8dd6c98eea5-us-east-2.apps.astra.datastax.com/api/json/v1/default_keyspace/visa_information_v3 \"HTTP/1.1 200 OK\"\n",
      "INFO: finished insertMany(chunk) on 'visa_information_v3'\n",
      "INFO: finished inserting 100 documents in 'visa_information_v3'\n"
     ]
    },
    {
     "name": "stdout",
     "output_type": "stream",
     "text": [
      "Chunk 1 added successfully\n"
     ]
    },
    {
     "name": "stderr",
     "output_type": "stream",
     "text": [
      "INFO: inserting 100 documents in 'visa_information_v3'\n",
      "INFO: insertMany(chunk) on 'visa_information_v3'\n",
      "INFO: insertMany(chunk) on 'visa_information_v3'\n",
      "INFO: HTTP Request: POST https://d21836b8-de1d-4618-962c-f8dd6c98eea5-us-east-2.apps.astra.datastax.com/api/json/v1/default_keyspace/visa_information_v3 \"HTTP/1.1 200 OK\"\n",
      "INFO: finished insertMany(chunk) on 'visa_information_v3'\n",
      "INFO: HTTP Request: POST https://d21836b8-de1d-4618-962c-f8dd6c98eea5-us-east-2.apps.astra.datastax.com/api/json/v1/default_keyspace/visa_information_v3 \"HTTP/1.1 200 OK\"\n",
      "INFO: finished insertMany(chunk) on 'visa_information_v3'\n",
      "INFO: finished inserting 100 documents in 'visa_information_v3'\n"
     ]
    },
    {
     "name": "stdout",
     "output_type": "stream",
     "text": [
      "Chunk 2 added successfully\n"
     ]
    },
    {
     "name": "stderr",
     "output_type": "stream",
     "text": [
      "INFO: inserting 100 documents in 'visa_information_v3'\n",
      "INFO: insertMany(chunk) on 'visa_information_v3'\n",
      "INFO: insertMany(chunk) on 'visa_information_v3'\n",
      "INFO: HTTP Request: POST https://d21836b8-de1d-4618-962c-f8dd6c98eea5-us-east-2.apps.astra.datastax.com/api/json/v1/default_keyspace/visa_information_v3 \"HTTP/1.1 200 OK\"\n",
      "INFO: finished insertMany(chunk) on 'visa_information_v3'\n",
      "INFO: HTTP Request: POST https://d21836b8-de1d-4618-962c-f8dd6c98eea5-us-east-2.apps.astra.datastax.com/api/json/v1/default_keyspace/visa_information_v3 \"HTTP/1.1 200 OK\"\n",
      "INFO: finished insertMany(chunk) on 'visa_information_v3'\n",
      "INFO: finished inserting 100 documents in 'visa_information_v3'\n"
     ]
    },
    {
     "name": "stdout",
     "output_type": "stream",
     "text": [
      "Chunk 3 added successfully\n"
     ]
    },
    {
     "name": "stderr",
     "output_type": "stream",
     "text": [
      "INFO: inserting 100 documents in 'visa_information_v3'\n",
      "INFO: insertMany(chunk) on 'visa_information_v3'\n",
      "INFO: insertMany(chunk) on 'visa_information_v3'\n",
      "INFO: HTTP Request: POST https://d21836b8-de1d-4618-962c-f8dd6c98eea5-us-east-2.apps.astra.datastax.com/api/json/v1/default_keyspace/visa_information_v3 \"HTTP/1.1 200 OK\"\n",
      "INFO: HTTP Request: POST https://d21836b8-de1d-4618-962c-f8dd6c98eea5-us-east-2.apps.astra.datastax.com/api/json/v1/default_keyspace/visa_information_v3 \"HTTP/1.1 200 OK\"\n",
      "INFO: finished insertMany(chunk) on 'visa_information_v3'\n",
      "INFO: finished insertMany(chunk) on 'visa_information_v3'\n",
      "INFO: finished inserting 100 documents in 'visa_information_v3'\n"
     ]
    },
    {
     "name": "stdout",
     "output_type": "stream",
     "text": [
      "Chunk 4 added successfully\n"
     ]
    },
    {
     "name": "stderr",
     "output_type": "stream",
     "text": [
      "INFO: inserting 100 documents in 'visa_information_v3'\n",
      "INFO: insertMany(chunk) on 'visa_information_v3'\n",
      "INFO: insertMany(chunk) on 'visa_information_v3'\n",
      "INFO: HTTP Request: POST https://d21836b8-de1d-4618-962c-f8dd6c98eea5-us-east-2.apps.astra.datastax.com/api/json/v1/default_keyspace/visa_information_v3 \"HTTP/1.1 200 OK\"\n",
      "INFO: finished insertMany(chunk) on 'visa_information_v3'\n",
      "INFO: HTTP Request: POST https://d21836b8-de1d-4618-962c-f8dd6c98eea5-us-east-2.apps.astra.datastax.com/api/json/v1/default_keyspace/visa_information_v3 \"HTTP/1.1 200 OK\"\n",
      "INFO: finished insertMany(chunk) on 'visa_information_v3'\n",
      "INFO: finished inserting 100 documents in 'visa_information_v3'\n"
     ]
    },
    {
     "name": "stdout",
     "output_type": "stream",
     "text": [
      "Chunk 5 added successfully\n"
     ]
    },
    {
     "name": "stderr",
     "output_type": "stream",
     "text": [
      "INFO: inserting 100 documents in 'visa_information_v3'\n",
      "INFO: insertMany(chunk) on 'visa_information_v3'\n",
      "INFO: insertMany(chunk) on 'visa_information_v3'\n",
      "INFO: HTTP Request: POST https://d21836b8-de1d-4618-962c-f8dd6c98eea5-us-east-2.apps.astra.datastax.com/api/json/v1/default_keyspace/visa_information_v3 \"HTTP/1.1 200 OK\"\n",
      "INFO: finished insertMany(chunk) on 'visa_information_v3'\n",
      "INFO: HTTP Request: POST https://d21836b8-de1d-4618-962c-f8dd6c98eea5-us-east-2.apps.astra.datastax.com/api/json/v1/default_keyspace/visa_information_v3 \"HTTP/1.1 200 OK\"\n",
      "INFO: finished insertMany(chunk) on 'visa_information_v3'\n",
      "INFO: finished inserting 100 documents in 'visa_information_v3'\n"
     ]
    },
    {
     "name": "stdout",
     "output_type": "stream",
     "text": [
      "Chunk 6 added successfully\n"
     ]
    },
    {
     "name": "stderr",
     "output_type": "stream",
     "text": [
      "INFO: inserting 43 documents in 'visa_information_v3'\n",
      "INFO: insertMany(chunk) on 'visa_information_v3'\n",
      "INFO: HTTP Request: POST https://d21836b8-de1d-4618-962c-f8dd6c98eea5-us-east-2.apps.astra.datastax.com/api/json/v1/default_keyspace/visa_information_v3 \"HTTP/1.1 200 OK\"\n",
      "INFO: finished insertMany(chunk) on 'visa_information_v3'\n",
      "INFO: finished inserting 43 documents in 'visa_information_v3'\n"
     ]
    },
    {
     "name": "stdout",
     "output_type": "stream",
     "text": [
      "Chunk 7 added successfully\n"
     ]
    }
   ],
   "source": [
    "# push embedding to collection\n",
    "for i in range(0, len(documents), 100):\n",
    "    chunk = documents[i:i+100]\n",
    "    try:\n",
    "        # Add the chunk to the vector store\n",
    "        vector_store.add_documents(documents=chunk)\n",
    "        print(f\"Chunk {i//100} added successfully\")\n",
    "    except Exception as e:\n",
    "        print(f\"Error adding chunk {i//100 }: {e}\")\n",
    "        continue\n",
    "    "
   ]
  },
  {
   "cell_type": "code",
   "execution_count": 112,
   "id": "4f125c97",
   "metadata": {},
   "outputs": [
    {
     "name": "stdout",
     "output_type": "stream",
     "text": [
      "Embeddings loaded to: visa_information_v3\n"
     ]
    }
   ],
   "source": [
    "print(f\"Embeddings loaded to: {vector_store.collection_name}\")"
   ]
  },
  {
   "cell_type": "markdown",
   "id": "306b0970",
   "metadata": {},
   "source": [
    "## Check Embeddings"
   ]
  },
  {
   "cell_type": "code",
   "execution_count": 113,
   "id": "a7685fb9",
   "metadata": {},
   "outputs": [
    {
     "name": "stderr",
     "output_type": "stream",
     "text": [
      "INFO: vector store autodetect init, collection 'visa_information_v3'\n",
      "INFO: Attempting to fetch keyspace from environment variable 'ASTRA_DB_KEYSPACE'\n",
      "INFO: Detecting API environment 'prod' from supplied endpoint\n",
      "INFO: findCollections\n",
      "INFO: HTTP Request: POST https://d21836b8-de1d-4618-962c-f8dd6c98eea5-us-east-2.apps.astra.datastax.com/api/json/v1/default_keyspace \"HTTP/1.1 200 OK\"\n",
      "INFO: finished findCollections\n",
      "INFO: cursor fetching a page: (empty page state) from visa_information_v3\n",
      "INFO: HTTP Request: POST https://d21836b8-de1d-4618-962c-f8dd6c98eea5-us-east-2.apps.astra.datastax.com/api/json/v1/default_keyspace/visa_information_v3 \"HTTP/1.1 200 OK\"\n",
      "INFO: cursor finished fetching a page: (empty page state) from visa_information_v3\n",
      "INFO: vector store autodetect: has_vectorize = False\n",
      "INFO: vector store autodetect: inspecting 15 documents\n",
      "INFO: vector store autodetect: is_flat = False\n",
      "INFO: vector store autodetect: inferring content_field from 15 documents\n",
      "INFO: vector store autodetect: final_content_field = content\n",
      "INFO: vector store autodetect: lexical_in_docs = False (has_lexical = True)\n",
      "INFO: Attempting to fetch keyspace from environment variable 'ASTRA_DB_KEYSPACE'\n",
      "INFO: Detecting API environment 'prod' from supplied endpoint\n"
     ]
    }
   ],
   "source": [
    "# as data is already loaded\n",
    "\n",
    "vector_store = AstraDBVectorStore(\n",
    "    embedding = google_embedding_model,\n",
    "    collection_name=\"visa_information_v3\",\n",
    "    api_endpoint=ASTRA_DB_API_ENDPOINT,\n",
    "    token=ASTRA_DB_APPLICATION_TOKEN,\n",
    "    autodetect_collection=True,\n",
    ")"
   ]
  },
  {
   "cell_type": "code",
   "execution_count": 116,
   "id": "6b93e4c9",
   "metadata": {},
   "outputs": [
    {
     "name": "stderr",
     "output_type": "stream",
     "text": [
      "INFO: cursor fetching a page: (empty page state) from visa_information_v3\n",
      "INFO: HTTP Request: POST https://d21836b8-de1d-4618-962c-f8dd6c98eea5-us-east-2.apps.astra.datastax.com/api/json/v1/default_keyspace/visa_information_v3 \"HTTP/1.1 200 OK\"\n",
      "INFO: cursor finished fetching a page: (empty page state) from visa_information_v3\n"
     ]
    },
    {
     "name": "stdout",
     "output_type": "stream",
     "text": [
      " --->[Similarity score=-7.964844]\n",
      "support, processing typically takes 3-6 months2.\n",
      "[{'source': 'D:\\\\NextCountry\\\\db\\\\CANADA.pdf', 'coordinates': {'points': [[108, 392.28601131], [108, 404.95983939], [368.92968756, 404.95983939], [368.92968756, 392.28601131]], 'system': 'PixelSpace', 'layout_width': 612, 'layout_height': 792}, 'file_directory': 'D:\\\\NextCountry\\\\db', 'filename': 'CANADA.pdf', 'languages': ['eng'], 'last_modified': '2025-05-10T14:00:52', 'page_number': 2, 'parent_id': '0e03826a6727f53c007f317ab93efcb0', 'filetype': 'application/pdf', 'category': 'NarrativeText', 'element_id': '3e1516238431d5bafd993b505aa94e6e', 'country': 'CANADA'}]\n",
      "\n",
      " --->[Similarity score=-7.964844]\n",
      "and compile essential documents2.\n",
      "[{'source': 'D:\\\\NextCountry\\\\db\\\\CANADA.pdf', 'coordinates': {'points': [[108, 308.08435131], [108, 320.75817939], [300.94922256, 320.75817939], [300.94922256, 308.08435131]], 'system': 'PixelSpace', 'layout_width': 612, 'layout_height': 792}, 'file_directory': 'D:\\\\NextCountry\\\\db', 'filename': 'CANADA.pdf', 'languages': ['eng'], 'last_modified': '2025-05-10T14:00:52', 'page_number': 2, 'filetype': 'application/pdf', 'category': 'Title', 'element_id': '0e03826a6727f53c007f317ab93efcb0', 'country': 'CANADA'}]\n",
      "\n",
      " --->[Similarity score=-7.964844]\n",
      "Comprehensive Guide\n",
      "[{'source': 'D:\\\\NextCountry\\\\db\\\\CANADA.pdf', 'coordinates': {'points': [[72, 202.86450031792958], [72, 225.86449981792964], [304.9100060557324, 225.86449981792964], [304.9100060557324, 202.86450031792958]], 'system': 'PixelSpace', 'layout_width': 612, 'layout_height': 792}, 'file_directory': 'D:\\\\NextCountry\\\\db', 'filename': 'CANADA.pdf', 'languages': ['eng'], 'last_modified': '2025-05-10T14:00:52', 'page_number': 1, 'filetype': 'application/pdf', 'category': 'Title', 'element_id': 'dbbf6a03fb68833810c185982bc3c079', 'country': 'CANADA'}]\n",
      "\n",
      " --->[Similarity score=-8.531250]\n",
      "4. Application Processing: Once a complete application is submitted with a letter of\n",
      "[{'source': 'D:\\\\NextCountry\\\\db\\\\CANADA.pdf', 'coordinates': {'points': [[90.0, 375.72327131], [90.0, 387.72327131], [540.1992225600001, 387.72327131], [540.1992225600001, 375.72327131]], 'system': 'PixelSpace', 'layout_width': 612, 'layout_height': 792}, 'file_directory': 'D:\\\\NextCountry\\\\db', 'filename': 'CANADA.pdf', 'languages': ['eng'], 'last_modified': '2025-05-10T14:00:52', 'page_number': 2, 'parent_id': '0e03826a6727f53c007f317ab93efcb0', 'filetype': 'application/pdf', 'category': 'ListItem', 'element_id': '4d576f24d7336aa05779b8f88753a6a0', 'country': 'CANADA'}]\n",
      "\n",
      " --->[Similarity score=-10.242188]\n",
      "Business Investor/Entrepreneur Visas\n",
      "[{'source': 'D:\\\\NextCountry\\\\db\\\\CANADA.pdf', 'coordinates': {'points': [[72, 168.71679591404302], [72, 185.71679541404296], [383.337416871084, 185.71679541404296], [383.337416871084, 168.71679591404302]], 'system': 'PixelSpace', 'layout_width': 612, 'layout_height': 792}, 'file_directory': 'D:\\\\NextCountry\\\\db', 'filename': 'CANADA.pdf', 'languages': ['eng'], 'last_modified': '2025-05-10T14:00:52', 'page_number': 5, 'filetype': 'application/pdf', 'category': 'Title', 'element_id': '81f65bfb3eb037b6c5491e31d8b1bdc2', 'country': 'CANADA'}]\n",
      "\n"
     ]
    }
   ],
   "source": [
    "# sanity check for similarity search\n",
    "results = vector_store.similarity_search_with_score(\n",
    "    query=\"US tourist Visa\",\n",
    "    k=5,\n",
    "    filter={\"country\": \"CANADA\"}\n",
    ")\n",
    "for res, score in results:\n",
    "    print(f\" --->[Similarity score={score:3f}]\\n{res.page_content}\\n[{res.metadata}]\\n\")"
   ]
  }
 ],
 "metadata": {
  "kernelspec": {
   "display_name": "torch",
   "language": "python",
   "name": "python3"
  },
  "language_info": {
   "codemirror_mode": {
    "name": "ipython",
    "version": 3
   },
   "file_extension": ".py",
   "mimetype": "text/x-python",
   "name": "python",
   "nbconvert_exporter": "python",
   "pygments_lexer": "ipython3",
   "version": "3.12.9"
  }
 },
 "nbformat": 4,
 "nbformat_minor": 5
}
