{
 "cells": [
  {
   "cell_type": "code",
   "execution_count": 7,
   "id": "8c1c5a34",
   "metadata": {},
   "outputs": [],
   "source": [
    "import warnings\n",
    "warnings.filterwarnings(\"ignore\")"
   ]
  },
  {
   "cell_type": "code",
   "execution_count": 8,
   "id": "ab1930b0",
   "metadata": {},
   "outputs": [],
   "source": [
    "# load credentials\n",
    "import os\n",
    "from dotenv import load_dotenv\n",
    "load_dotenv(\n",
    "    \"D:\\\\NextCountry\\\\src\\\\.env\"\n",
    ")\n",
    "\n",
    "os.environ[\"GOOGLE_API_KEY\"] = os.getenv(\"GOOGLE_API_KEY\")\n",
    "ASTRA_DB_APPLICATION_TOKEN = os.getenv(\"ASTRA_DB_APPLICATION_TOKEN\")\n",
    "ASTRA_DB_API_ENDPOINT = os.getenv(\"ASTRA_DB_API_ENDPOINT\")"
   ]
  },
  {
   "cell_type": "markdown",
   "id": "fb3128c2",
   "metadata": {},
   "source": [
    "## Load documents"
   ]
  },
  {
   "cell_type": "code",
   "execution_count": 30,
   "id": "1cb52812",
   "metadata": {},
   "outputs": [
    {
     "name": "stderr",
     "output_type": "stream",
     "text": [
      "100%|██████████| 1/1 [00:00<00:00, 13.50it/s]\n",
      "100%|██████████| 3/3 [00:00<00:00, 55.54it/s]\n",
      "100%|██████████| 1/1 [00:00<00:00, 28.14it/s]\n"
     ]
    }
   ],
   "source": [
    "# load quiz question flow\n",
    "from langchain_community.document_loaders import DirectoryLoader, PyMuPDFLoader, Docx2txtLoader\n",
    "\n",
    "\n",
    "folder_path = \"D:\\\\NextCountry\\\\db\"\n",
    "\n",
    "quiz_path = \"D:\\\\NextCountry\\\\db\\\\ignore\"\n",
    "\n",
    "\n",
    "quiz_loader = DirectoryLoader(\n",
    "    quiz_path,\n",
    "    glob=\"*.docx\",\n",
    "    loader_cls=Docx2txtLoader,\n",
    "    show_progress=True\n",
    ")\n",
    "\n",
    "quiz_docs = quiz_loader.load()\n",
    "\n",
    "\n",
    "pdf_loader = DirectoryLoader(\n",
    "    folder_path,\n",
    "    glob=\"*.pdf\",\n",
    "    loader_cls=PyMuPDFLoader,\n",
    "    show_progress=True\n",
    ")\n",
    "\n",
    "doc_loader = DirectoryLoader(\n",
    "    folder_path,\n",
    "    glob=\"*.docx\",\n",
    "    loader_cls=Docx2txtLoader,\n",
    "    show_progress=True\n",
    ")\n",
    "\n",
    "pdfs = pdf_loader.load()\n",
    "docs = doc_loader.load()"
   ]
  },
  {
   "cell_type": "code",
   "execution_count": 31,
   "id": "1e9e8166",
   "metadata": {},
   "outputs": [],
   "source": [
    "Documents = pdfs+docs"
   ]
  },
  {
   "cell_type": "code",
   "execution_count": 32,
   "id": "88024491",
   "metadata": {},
   "outputs": [],
   "source": [
    "from langchain.chat_models import init_chat_model\n",
    "\n",
    "llm = init_chat_model(\n",
    "    model=\"gemini-2.0-flash\",\n",
    "    model_provider=\"google_genai\",\n",
    "    temperature=0.5,   \n",
    ")"
   ]
  },
  {
   "cell_type": "code",
   "execution_count": 33,
   "id": "6fd850ec",
   "metadata": {},
   "outputs": [],
   "source": [
    "from langchain.text_splitter import RecursiveCharacterTextSplitter  \n",
    "\n",
    "text_splitter = RecursiveCharacterTextSplitter(\n",
    "chunk_size = 1000,\n",
    "chunk_overlap = 300,\n",
    "    separators=[\n",
    "    \"\\n\"]\n",
    ")\n",
    "\n",
    "splits = text_splitter.split_documents(Documents)"
   ]
  },
  {
   "cell_type": "code",
   "execution_count": 34,
   "id": "5f1d0c8b",
   "metadata": {},
   "outputs": [
    {
     "data": {
      "text/plain": [
       "70"
      ]
     },
     "execution_count": 34,
     "metadata": {},
     "output_type": "execute_result"
    }
   ],
   "source": [
    "len(splits)"
   ]
  },
  {
   "cell_type": "code",
   "execution_count": 35,
   "id": "0cac56be",
   "metadata": {},
   "outputs": [
    {
     "data": {
      "text/plain": [
       "{'source': 'D:\\\\NextCountry\\\\db\\\\UNITED KINGDOM – VISA OPTIONS AND GUIDE.docx'}"
      ]
     },
     "execution_count": 35,
     "metadata": {},
     "output_type": "execute_result"
    }
   ],
   "source": [
    "splits[50].metadata"
   ]
  },
  {
   "cell_type": "code",
   "execution_count": 36,
   "id": "506913af",
   "metadata": {},
   "outputs": [],
   "source": [
    "# Function to extract country from filename using LLM\n",
    "def extract_country_from_filename(filename):\n",
    "    prompt = f\"\"\"\n",
    "    Extract the country name from this filename: {filename}. Then recall the full form of the country name.\n",
    "    you must return the country name in full form and all capital letters, nothing else.\n",
    "    example1:'USA visa details' will return 'UNITED STATES OF AMERICA'.\n",
    "    example2:'BD visa details' will return 'BANGLADESH'.\n",
    "    If no country is found, return 'NA'.\n",
    "    \"\"\"\n",
    "    response = llm.invoke(prompt)\n",
    "    return response.content.strip()\n",
    "\n",
    "# update metadata\n",
    "def update_metadata(splits):\n",
    "    \n",
    "    for i in range(len(splits)):\n",
    "        filename = splits[i].metadata[\"source\"]\n",
    "        if i == 0 or filename != splits[i-1].metadata[\"source\"]:\n",
    "            country = extract_country_from_filename(filename)\n",
    "        splits[i].metadata[\"country\"] = country\n",
    "        \n",
    "    return splits"
   ]
  },
  {
   "cell_type": "code",
   "execution_count": 37,
   "id": "c507aaeb",
   "metadata": {},
   "outputs": [
    {
     "data": {
      "text/plain": [
       "{'producer': 'Skia/PDF m137 Google Docs Renderer',\n",
       " 'creator': '',\n",
       " 'creationdate': '',\n",
       " 'source': 'D:\\\\NextCountry\\\\db\\\\CANADA.pdf',\n",
       " 'file_path': 'D:\\\\NextCountry\\\\db\\\\CANADA.pdf',\n",
       " 'total_pages': 5,\n",
       " 'format': 'PDF 1.4',\n",
       " 'title': 'CANADA',\n",
       " 'author': '',\n",
       " 'subject': '',\n",
       " 'keywords': '',\n",
       " 'moddate': '',\n",
       " 'trapped': '',\n",
       " 'modDate': '',\n",
       " 'creationDate': '',\n",
       " 'page': 0,\n",
       " 'country': 'CANADA'}"
      ]
     },
     "execution_count": 37,
     "metadata": {},
     "output_type": "execute_result"
    }
   ],
   "source": [
    "documents = update_metadata(splits)\n",
    "documents[0].metadata"
   ]
  },
  {
   "cell_type": "markdown",
   "id": "c3b0f404",
   "metadata": {},
   "source": [
    "## Embedding Engine\n",
    "---"
   ]
  },
  {
   "cell_type": "code",
   "execution_count": 40,
   "id": "7e996f99",
   "metadata": {},
   "outputs": [],
   "source": [
    "from langchain_google_genai import GoogleGenerativeAIEmbeddings\n",
    "\n",
    "google_embedding_model = GoogleGenerativeAIEmbeddings(\n",
    "    model=\"models/text-embedding-004\",\n",
    ")\n"
   ]
  },
  {
   "cell_type": "markdown",
   "id": "b039b652",
   "metadata": {},
   "source": [
    "## Vector Database Connection"
   ]
  },
  {
   "cell_type": "code",
   "execution_count": 41,
   "id": "a0f55bab",
   "metadata": {},
   "outputs": [
    {
     "name": "stdout",
     "output_type": "stream",
     "text": [
      "Connected Database: nc-vec-db\n",
      "Collections found: ['quiz_flow']\n"
     ]
    }
   ],
   "source": [
    "from astrapy import DataAPIClient\n",
    "\n",
    "# Initialize the client\n",
    "client = DataAPIClient(ASTRA_DB_APPLICATION_TOKEN)\n",
    "db = client.get_database_by_api_endpoint(\n",
    "  ASTRA_DB_API_ENDPOINT\n",
    ")\n",
    "\n",
    "print(f\"Connected Database: {db.info().name}\\nCollections found: {db.list_collection_names()}\")"
   ]
  },
  {
   "cell_type": "code",
   "execution_count": 42,
   "id": "bb8b8b24",
   "metadata": {},
   "outputs": [
    {
     "name": "stdout",
     "output_type": "stream",
     "text": [
      "Connected to collection: visa_details\n"
     ]
    }
   ],
   "source": [
    "# create collection\n",
    "from langchain_astradb import AstraDBVectorStore\n",
    "\n",
    "vector_store = AstraDBVectorStore(\n",
    "    collection_name=\"visa_details\",      # this collection gets created automatically\n",
    "    embedding=google_embedding_model,\n",
    "    api_endpoint=ASTRA_DB_API_ENDPOINT,\n",
    "    token=ASTRA_DB_APPLICATION_TOKEN,\n",
    "    namespace=\"default_keyspace\",\n",
    "    # autodetect_collection=True,   # set to True whille using it\n",
    ")\n",
    "\n",
    "print(f\"Connected to collection: {vector_store.collection_name}\")"
   ]
  },
  {
   "cell_type": "markdown",
   "id": "a0a2d5d6",
   "metadata": {},
   "source": [
    "### Pushing data to collection"
   ]
  },
  {
   "cell_type": "code",
   "execution_count": 43,
   "id": "5e91389f",
   "metadata": {},
   "outputs": [
    {
     "name": "stdout",
     "output_type": "stream",
     "text": [
      "Chunk 0 added successfully\n",
      "Chunk 1 added successfully\n",
      "Chunk 2 added successfully\n",
      "Chunk 3 added successfully\n",
      "Chunk 4 added successfully\n",
      "Chunk 5 added successfully\n",
      "Chunk 6 added successfully\n"
     ]
    }
   ],
   "source": [
    "# push embedding to collection\n",
    "for i in range(0, len(splits), 10):\n",
    "    chunk = splits[i:i+10]\n",
    "    try:\n",
    "        # Add the chunk to the vector store\n",
    "        vector_store.add_documents(documents=chunk)\n",
    "        print(f\"Chunk {i//10} added successfully\")\n",
    "    except Exception as e:\n",
    "        print(f\"Error adding chunk {i//10 }: {e}\")\n",
    "        continue\n",
    "    "
   ]
  },
  {
   "cell_type": "code",
   "execution_count": 44,
   "id": "4f125c97",
   "metadata": {},
   "outputs": [
    {
     "name": "stdout",
     "output_type": "stream",
     "text": [
      "Embeddings loaded to: visa_details\n"
     ]
    }
   ],
   "source": [
    "print(f\"Embeddings loaded to: {vector_store.collection_name}\")"
   ]
  },
  {
   "cell_type": "markdown",
   "id": "306b0970",
   "metadata": {},
   "source": [
    "## Check Embeddings"
   ]
  },
  {
   "cell_type": "code",
   "execution_count": 45,
   "id": "6b93e4c9",
   "metadata": {},
   "outputs": [
    {
     "name": "stdout",
     "output_type": "stream",
     "text": [
      " --->[Similarity score=0.782067]\n",
      "●​ Work Permit Option: While awaiting permanent residence processing, applicants \n",
      "can apply for a temporary work permit to begin establishing their business in \n",
      "Canada3. This allows for a quicker entry into the Canadian market. \n",
      "Program Limitations \n",
      "It's important to note that effective until December 31, 2026, IRCC has implemented \n",
      "annual caps on applications. Each calendar year, only 10 complete group applications \n",
      "per designated organization will be considered, with processing on a first-come, \n",
      "first-served basis3. Applications submitted after a cap is reached will be returned with a \n",
      "refund of processing fees. \n",
      "Work Permit Options \n",
      "Canada offers two primary types of work permits: employer-specific (closed) work \n",
      "permits and open work permits, each designed for different circumstances and needs5. \n",
      "Employer-Specific Work Permits \n",
      "Employer-specific work permits restrict employment to a specific employer under \n",
      "conditions outlined in the permit, including:\n",
      "[{'producer': 'Skia/PDF m137 Google Docs Renderer', 'creator': '', 'creationdate': '', 'source': 'D:\\\\NextCountry\\\\db\\\\CANADA.pdf', 'file_path': 'D:\\\\NextCountry\\\\db\\\\CANADA.pdf', 'total_pages': 5, 'format': 'PDF 1.4', 'title': 'CANADA', 'author': '', 'subject': '', 'keywords': '', 'moddate': '', 'trapped': '', 'modDate': '', 'creationDate': '', 'page': 2, 'country': 'CANADA'}]\n",
      "\n",
      " --->[Similarity score=0.769896]\n",
      "●​ Angel Investor Group: Minimum investment of CAD 75,0004. \n",
      "●​ Business Incubator: No specific investment amount required, but applicants \n",
      "must be accepted into a recognized Canadian business incubator program4. \n",
      "Program Benefits and Considerations \n",
      "The Start-up Visa offers significant advantages: \n",
      "●​ Permanent Residence Status: Successful applicants receive immediate \n",
      "permanent residence for themselves and their eligible family members4. \n",
      "●​ Business Failure Protection: Unlike some other entrepreneur programs, \n",
      "permanent resident status is maintained even if the business venture ultimately \n",
      "fails4. This reduces the risk for innovative entrepreneurs who may need multiple \n",
      "attempts to succeed.\n",
      "[{'producer': 'Skia/PDF m137 Google Docs Renderer', 'creator': '', 'creationdate': '', 'source': 'D:\\\\NextCountry\\\\db\\\\CANADA.pdf', 'file_path': 'D:\\\\NextCountry\\\\db\\\\CANADA.pdf', 'total_pages': 5, 'format': 'PDF 1.4', 'title': 'CANADA', 'author': '', 'subject': '', 'keywords': '', 'moddate': '', 'trapped': '', 'modDate': '', 'creationDate': '', 'page': 1, 'country': 'CANADA'}]\n",
      "\n",
      " --->[Similarity score=0.768336]\n",
      "target markets, and develop a viable business concept2. \n",
      "2.​ Business Plan Preparation: 1-2 months to create a comprehensive business plan \n",
      "and compile essential documents2. \n",
      "3.​ Securing Support: 6-10 months to pitch to designated organizations and obtain a \n",
      "letter of support2. This is often the most time-intensive part of the process as it \n",
      "requires convincing stakeholders of your business's potential. \n",
      "4.​ Application Processing: Once a complete application is submitted with a letter of \n",
      "support, processing typically takes 3-6 months2. \n",
      "Investment Requirements \n",
      "The investment thresholds vary depending on the type of designated organization: \n",
      "●​ Venture Capital Fund: Minimum investment of CAD 200,0004. \n",
      "●​ Angel Investor Group: Minimum investment of CAD 75,0004. \n",
      "●​ Business Incubator: No specific investment amount required, but applicants \n",
      "must be accepted into a recognized Canadian business incubator program4. \n",
      "Program Benefits and Considerations\n",
      "[{'producer': 'Skia/PDF m137 Google Docs Renderer', 'creator': '', 'creationdate': '', 'source': 'D:\\\\NextCountry\\\\db\\\\CANADA.pdf', 'file_path': 'D:\\\\NextCountry\\\\db\\\\CANADA.pdf', 'total_pages': 5, 'format': 'PDF 1.4', 'title': 'CANADA', 'author': '', 'subject': '', 'keywords': '', 'moddate': '', 'trapped': '', 'modDate': '', 'creationDate': '', 'page': 1, 'country': 'CANADA'}]\n",
      "\n",
      " --->[Similarity score=0.765804]\n",
      "innovative entrepreneurs, while various work permit options provide both temporary and \n",
      "potentially permanent immigration opportunities. \n",
      "When evaluating which pathway best suits individual circumstances, consideration \n",
      "should be given to: \n",
      "●​ Business viability and innovation potential for entrepreneurial pathways \n",
      "●​ Educational and professional qualifications for skilled worker categories \n",
      "●​ Family circumstances and settlement requirements \n",
      "●​ Long-term immigration goals (temporary work vs. permanent residence) \n",
      "For the most current and comprehensive information on all pathways, prospective \n",
      "immigrants should consult the official IRCC website or seek guidance from a Regulated \n",
      "Canadian Immigration Consultant (RCIC), particularly given the dynamic nature of \n",
      "immigration policies and processing times.\n",
      "[{'producer': 'Skia/PDF m137 Google Docs Renderer', 'creator': '', 'creationdate': '', 'source': 'D:\\\\NextCountry\\\\db\\\\CANADA.pdf', 'file_path': 'D:\\\\NextCountry\\\\db\\\\CANADA.pdf', 'total_pages': 5, 'format': 'PDF 1.4', 'title': 'CANADA', 'author': '', 'subject': '', 'keywords': '', 'moddate': '', 'trapped': '', 'modDate': '', 'creationDate': '', 'page': 4, 'country': 'CANADA'}]\n",
      "\n",
      " --->[Similarity score=0.762300]\n",
      "●​ Language Proficiency: Applicants must demonstrate Canadian Language \n",
      "Benchmark (CLB) level 5 in either English or French across all four abilities \n",
      "(listening, reading, writing, and speaking)34. This requirement ensures that \n",
      "entrepreneurs can effectively communicate in Canadian business environments. \n",
      "●​ Settlement Funds: Sufficient funds must be available to support the applicant \n",
      "and their family upon arrival in Canada. The amount varies based on family size, \n",
      "as indicated in official guidelines3. \n",
      "Application Process and Timeline \n",
      "The Start-up Visa application process involves several stages with varying timeframes: \n",
      "1.​ Business Idea Development: 2-4 months to conduct market research, identify \n",
      "target markets, and develop a viable business concept2. \n",
      "2.​ Business Plan Preparation: 1-2 months to create a comprehensive business plan \n",
      "and compile essential documents2. \n",
      "3.​ Securing Support: 6-10 months to pitch to designated organizations and obtain a\n",
      "[{'producer': 'Skia/PDF m137 Google Docs Renderer', 'creator': '', 'creationdate': '', 'source': 'D:\\\\NextCountry\\\\db\\\\CANADA.pdf', 'file_path': 'D:\\\\NextCountry\\\\db\\\\CANADA.pdf', 'total_pages': 5, 'format': 'PDF 1.4', 'title': 'CANADA', 'author': '', 'subject': '', 'keywords': '', 'moddate': '', 'trapped': '', 'modDate': '', 'creationDate': '', 'page': 1, 'country': 'CANADA'}]\n",
      "\n"
     ]
    }
   ],
   "source": [
    "# sanity check for similarity search\n",
    "results = vector_store.similarity_search_with_score(\n",
    "    query=\"1. Expand/Relocate Existing Business\",\n",
    "    k=5,\n",
    "    filter={\"country\": \"CANADA\"}\n",
    ")\n",
    "for res, score in results:\n",
    "    print(f\" --->[Similarity score={score:3f}]\\n{res.page_content}\\n[{res.metadata}]\\n\")"
   ]
  }
 ],
 "metadata": {
  "kernelspec": {
   "display_name": "torch",
   "language": "python",
   "name": "python3"
  },
  "language_info": {
   "codemirror_mode": {
    "name": "ipython",
    "version": 3
   },
   "file_extension": ".py",
   "mimetype": "text/x-python",
   "name": "python",
   "nbconvert_exporter": "python",
   "pygments_lexer": "ipython3",
   "version": "3.12.9"
  }
 },
 "nbformat": 4,
 "nbformat_minor": 5
}
